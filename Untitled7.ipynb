{
 "cells": [
  {
   "cell_type": "code",
   "execution_count": 36,
   "id": "d188c5cc-0b2c-4ee0-98c8-4f5cc632ed5e",
   "metadata": {},
   "outputs": [],
   "source": [
    "import random"
   ]
  },
  {
   "cell_type": "code",
   "execution_count": 37,
   "id": "de758715-c9ea-40e3-a65c-86fe7ee3d0aa",
   "metadata": {},
   "outputs": [],
   "source": [
    "uppercase_letters =\"ABCDEFGHIJKLMNOPQRSTUVWXYZ\"\n",
    "lowercase_letters=uppercase_letters.lower()\n",
    "digits=\"0123456789\"\n",
    "symbols=\"()[[]{},;:.-_/\\\\?+*#\""
   ]
  },
  {
   "cell_type": "code",
   "execution_count": 38,
   "id": "cb5bf005-98a0-4fcf-ab53-b66bbc6bbfd5",
   "metadata": {},
   "outputs": [],
   "source": [
    "upper,lower,nums,syms=True, False,True,True"
   ]
  },
  {
   "cell_type": "code",
   "execution_count": 39,
   "id": "7c5f37b1-1dd7-4841-b795-9795edb1d258",
   "metadata": {},
   "outputs": [],
   "source": [
    "all=\"\""
   ]
  },
  {
   "cell_type": "code",
   "execution_count": 40,
   "id": "e7338017-bce6-466d-9443-3c0f1f248d07",
   "metadata": {},
   "outputs": [],
   "source": [
    "if upper:\n",
    "    all+=uppercase_letters"
   ]
  },
  {
   "cell_type": "code",
   "execution_count": 41,
   "id": "9eb06145-c7d2-406c-a39e-4b2c80692fa2",
   "metadata": {},
   "outputs": [],
   "source": [
    "if lower:\n",
    "    all+=lowercase_letters"
   ]
  },
  {
   "cell_type": "code",
   "execution_count": 42,
   "id": "f7783a50-4c16-4aba-a0a8-16c83613e208",
   "metadata": {},
   "outputs": [],
   "source": [
    "if nums:\n",
    "    all+=digits"
   ]
  },
  {
   "cell_type": "code",
   "execution_count": 44,
   "id": "79a927c8-2f72-46ad-a19c-43763603c665",
   "metadata": {},
   "outputs": [],
   "source": [
    "if syms:\n",
    "    all+=symbols"
   ]
  },
  {
   "cell_type": "code",
   "execution_count": 45,
   "id": "57392657-be6d-4776-af2c-3db367283609",
   "metadata": {},
   "outputs": [],
   "source": [
    "length=40\n",
    "amount=20"
   ]
  },
  {
   "cell_type": "code",
   "execution_count": 46,
   "id": "d9ce3b4c-6c73-49be-a26a-ac817a98645e",
   "metadata": {},
   "outputs": [],
   "source": [
    "seed=\"Saiprasad1144\""
   ]
  },
  {
   "cell_type": "code",
   "execution_count": 47,
   "id": "c2729df4-7708-4cb7-8e3b-b6f8d19c85f3",
   "metadata": {},
   "outputs": [],
   "source": [
    "random.seed(seed)"
   ]
  },
  {
   "cell_type": "code",
   "execution_count": 51,
   "id": "f353371e-427b-4bc4-b29c-0543c64abd5a",
   "metadata": {},
   "outputs": [
    {
     "name": "stdout",
     "output_type": "stream",
     "text": [
      ")CBMWK}\\:{?/]3+HO_58JYS*U,.X;IL47G126RZ-\n",
      "BW}V_JK4UR[F31,G-{P[]0SE6Q#9.T)NLZXM\\/5O\n",
      "LY\\D8*7{IHG;SZE[UMXT9N5_6+2C-KV0(JR/3.,)\n",
      "03,[/.I}YE9C\\FAU[?S+72O{HZ8#KNR5JVWPXDL4\n",
      "NDZ29OT4YFH8.}1/G3U,*]J_{\\XW-+SRMIQ)#;5B\n",
      "IL1NB9)JA,SC*{#Q8][6ZE57UKXH/VO042:GRY(+\n",
      "N}1_JDAL#,I*(WY/BGE6752-K]ZRQ9CXV[.H{TO;\n",
      "A\\Z{)#-7,MTKQ(G[S[28+OX4H/?B*DWYJU6EN]0P\n",
      "M[HKJX?L,(7I\\5U*ZDQSWF0Y;BT]G-)21PC86.E/\n",
      "BC0,{(KG4UQ2HYJ#NMR]S}7V1EOF5-[[?/A;W9ZX\n",
      "0A#R?/)HO]MJ*UKF;+GCE[{T:(_692VX.N-1L[YZ\n",
      "8JDWCU.6-LVMB1R05}];SNA[*K(3X:+2H\\E7/)I?\n",
      "UCR01I}846VY/*[(F2N;5L.OX\\:+]MDJT)Q?K-H3\n",
      "GQHINOE/V)F02D.}*[LK:R7{81CZX\\UA3WMS_B[5\n",
      ")1R?B*9_A]:HWF(\\.4I3U[NE+7LJY5K[#8}/V,PC\n",
      "P6SJCG,.7+QVU[[1#5}Y()8*?B2\\O3AEL_NW/M]Z\n",
      "O9DIE}(14]/87L*YQ63R2S[A{:0_BCTHNU+XKZPJ\n",
      "5V3#YX[;)BQZW1:IU6HJ?T0/+KOE*,{M]S9-.N\\7\n",
      "E-S[(LVA3[4G6]1}Y*8X2Z5#/90WR,Q7N\\M{;O)U\n",
      "4BF*VY86:K1[O[JW0N+;DT92\\(5-RXP?3]ASG,L}\n"
     ]
    }
   ],
   "source": [
    "for x in range(amount):\n",
    "    password=\"\".join(random.sample(all,length))\n",
    "    print(password)"
   ]
  },
  {
   "cell_type": "code",
   "execution_count": null,
   "id": "21eed1dd-8e39-4f65-b672-6c057fe948d8",
   "metadata": {},
   "outputs": [],
   "source": []
  }
 ],
 "metadata": {
  "kernelspec": {
   "display_name": "Python 3 (ipykernel)",
   "language": "python",
   "name": "python3"
  },
  "language_info": {
   "codemirror_mode": {
    "name": "ipython",
    "version": 3
   },
   "file_extension": ".py",
   "mimetype": "text/x-python",
   "name": "python",
   "nbconvert_exporter": "python",
   "pygments_lexer": "ipython3",
   "version": "3.12.0"
  }
 },
 "nbformat": 4,
 "nbformat_minor": 5
}
